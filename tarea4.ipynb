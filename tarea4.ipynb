{
  "nbformat": 4,
  "nbformat_minor": 0,
  "metadata": {
    "colab": {
      "name": "tarea4.ipynb",
      "provenance": [],
      "collapsed_sections": []
    },
    "kernelspec": {
      "name": "python3",
      "display_name": "Python 3"
    },
    "language_info": {
      "name": "python"
    }
  },
  "cells": [
    {
      "cell_type": "markdown",
      "source": [
        "# **Tarea 4: diseño e implementación de algoritmos para el cálculo de probabilidades**"
      ],
      "metadata": {
        "id": "_WDdY7D--9QQ"
      }
    },
    {
      "cell_type": "markdown",
      "source": [
        "Para esta tarea será utilizada la biblioteca Pandas, que se encuentra ya importada en este notebook"
      ],
      "metadata": {
        "id": "eQFBc0KnAQPb"
      }
    },
    {
      "cell_type": "code",
      "execution_count": null,
      "metadata": {
        "id": "SVkcM8D7KMKm"
      },
      "outputs": [],
      "source": [
        "import pandas as pd"
      ]
    },
    {
      "cell_type": "markdown",
      "source": [
        "Antes de empezar a calcular probabilidades, necesitamos una base de datos. La siguiente es una base de datos de juguete que es utilizada en Aprendizaje Automático para practicar. Dicha base de datos resguarda 10 registros de tres tipos de flores (```tipo```): margaritas, lirios y rosas. Estas flores tienen las siguientes características: color de pétalo (```color```), número de pétalos (```num_pet```) y diámetro de la flor (```diamet```).\n",
        "\n",
        "![picture](https://drive.google.com/uc?export=view&id=1qnJFJRSR6QObff_830OJfMOcQGr0msxC)\n",
        "\n",
        "Para poder representar esta base de datos, vamos a hacer uso de los ```DataFrame``` que son una estructura de datos, parecida a los diccionarios ```dict()```. De igual manera que los diccionarios, el ```DataFrame``` guarda elementos relacionados en llaves y valores."
      ],
      "metadata": {
        "id": "g5ybFA5rCIvG"
      }
    },
    {
      "cell_type": "code",
      "source": [
        "# Creamos un DataFrame vacío, al que llamaremos data_set\n",
        "data_set = pd.DataFrame()\n",
        "\n",
        "# Creamos los registros y sus correspondientes valores\n",
        "color = [\"Rojo\", \"Blanco\", \"Amarillo\", \"Blanco\", \"Rojo\", \"Rojo\", \"Blanco\", \"Blanco\", \"Amarillo\", \"Blanco\"]\n",
        "num_pet = [\"40-70\", \"10-39\", \"5-9\", \"40-70\", \"40-70\", \"40-70\", \"10-39\", \"5-9\", \"5-9\", \"40-70\"]\n",
        "diamet = [\"5-15cm\", \"5-15cm\", \"5-15cm\", \"5-15cm\", \"5-15cm\", \"5-15cm\", \"5-15cm\", \"16-25cm\", \"16-25cm\", \"5-15cm\"]\n",
        "tipo = [\"Rosa\", \"Margarita\", \"Lirio\", \"Rosa\", \"Rosa\", \"Rosa\", \"Margarita\", \"Lirio\", \"Lirio\", \"Rosa\"]\n",
        "\n",
        "# Creamos nuevas columnas en el DataFrame con los valores expresados\n",
        "data_set[\"color\"] = color\n",
        "data_set[\"num_pet\"] = num_pet\n",
        "data_set[\"diamet\"] = diamet\n",
        "data_set[\"tipo\"] = tipo"
      ],
      "metadata": {
        "id": "_g_e9a8ULpxC"
      },
      "execution_count": null,
      "outputs": []
    },
    {
      "cell_type": "markdown",
      "source": [
        "Después de haber creado el ```data_set``` puede observarse su contenido"
      ],
      "metadata": {
        "id": "bj79D_5CG0am"
      }
    },
    {
      "cell_type": "code",
      "source": [
        "data_set"
      ],
      "metadata": {
        "id": "Ra3PVLPTG9h_"
      },
      "execution_count": null,
      "outputs": []
    },
    {
      "cell_type": "markdown",
      "source": [
        "A partir de esto, podemos determinar varios eventos. Con respecto al ```tipo```:\n",
        "\n",
        "$R = $ El evento de que la flor sea Rosa \\\\\n",
        "$M = $ El evento de que la flor sea Margarita \\\\\n",
        "$L = $ El evento de que la flor sea Lirio \\\\\n",
        "\n",
        "Con respecto al ```color```: \\\\\n",
        "$O = $ El evento de que la flor sea de color rojo \\\\\n",
        "$B = $ El evento de que la flor sea de color blanco \\\\\n",
        "$A = $ El evento de que la flor sea de color amarillo \\\\\n",
        "\n",
        "Con respecto al número de pétalos ```num_pet```: \\\\\n",
        "$C = $ El evento de que la flor tenga entre 40 y 70 pétalos \\\\\n",
        "$D = $ El evento de que la flor tenga entre 10 y 39 pétalos \\\\\n",
        "$I = $ El evento de que la flor tenga entre 5 y 9 pétalos \\\\\n",
        "\n",
        "Con respecto al diámetro de la flor ```diamet```: \\\\\n",
        "$Q = $ El evento de que la flor tenga de 5 a 15cm de diámetro \\\\\n",
        "$V = $ El evento de que la flor tenga de 16 a 25cm de diámetro \\\\\n",
        "\n",
        "Además, podemos calcular las distintas tablas de frecuencias para cada caso.\n",
        "\n",
        "1. Para el color de flor:\n",
        "\n",
        "![picture](https://drive.google.com/uc?export=view&id=1gnx1uLvOBGMvt25tTmh6u759JlWNtH0I)\n",
        "\n",
        "2. Para el número de pétalos de la flor:\n",
        "\n",
        "![picture](https://drive.google.com/uc?export=view&id=1wj1Nqq7nXKeyiB-URzKjXt5e_qvhvfDw)\n",
        "\n",
        "\n",
        "3. Para el diámetro del pétalo\n",
        "\n",
        "![picture](https://drive.google.com/uc?export=view&id=1aZ52Sz1JwinJ34DuD9VjUERO3UQrVrEp)\n",
        "\n",
        "La siguiente celda de código, contiene la manera en cómo se pueden hacer estas tablas de frecuencias."
      ],
      "metadata": {
        "id": "euJED0jLLsrH"
      }
    },
    {
      "cell_type": "code",
      "source": [
        "### Para el color de la flor ###\n",
        "\n",
        "# De manera manual, creamos 5 columnas: color, R (de Rosas), L (de Lirios), M (de Margaritas) y total (para expresar los totales)\n",
        "# Y asignamos sus respectivos valores\n",
        "color_frec = pd.DataFrame({\"color\": [\"O\", \"B\", \"A\", \"total\"], \"R\": [3, 2, 0, 5], \"L\": [0, 1, 2, 3], \"M\": [0, 2, 0, 2], \"total\": [3, 5, 2, 10]})\n",
        "\n",
        "# Finalmente, asignamos a la columna color como la principal o 'llave' de nuestra tabla\n",
        "# Este paso nos va a ayudar a detectar fácilmente las filas de nuestra tabla, que en este caso son O, B y A (de nuestros eventos), y total\n",
        "color_frec = color_frec.set_index([\"color\"])"
      ],
      "metadata": {
        "id": "l4ql_dGwYrNE"
      },
      "execution_count": null,
      "outputs": []
    },
    {
      "cell_type": "markdown",
      "source": [
        "Visualizamos nuestra tabla"
      ],
      "metadata": {
        "id": "WrB2-hYS2vLd"
      }
    },
    {
      "cell_type": "code",
      "source": [
        "color_frec"
      ],
      "metadata": {
        "id": "6KjglB2IZJOj"
      },
      "execution_count": null,
      "outputs": []
    },
    {
      "cell_type": "markdown",
      "source": [
        "Y ahora podemos jugar con ella: \\\\\n",
        "1. La frecuencia de $O \\cap R$."
      ],
      "metadata": {
        "id": "d1b2-jgb21K1"
      }
    },
    {
      "cell_type": "code",
      "source": [
        "# Utilizamos la propiedad loc de nuestra tabla (DataFrame)\n",
        "# loc es una propiedad de los DataFrame, se utilizan las filas y columnas de los datos deseados: DataFrame.loc[[filas], [columnas]]\n",
        "color_frec.loc[[\"O\"], [\"R\"]]"
      ],
      "metadata": {
        "id": "LVmkKYfn3hef"
      },
      "execution_count": null,
      "outputs": []
    },
    {
      "cell_type": "markdown",
      "source": [
        "2. La frecuencia de $O \\cap L$, $A \\cap M$, $O \\cap M$, y $A \\cap L$."
      ],
      "metadata": {
        "id": "yN_D7pCc4qb2"
      }
    },
    {
      "cell_type": "code",
      "source": [
        "# Podemos adjuntar varios elementos en nuestro resultado, utilizando los dos arreglos que ofrece loc\n",
        "color_frec.loc[[\"O\", \"A\"], [\"L\", \"M\"]]"
      ],
      "metadata": {
        "id": "Vq-vbZGR41cD"
      },
      "execution_count": null,
      "outputs": []
    },
    {
      "cell_type": "markdown",
      "source": [
        "3. La frecuencia de $B \\cap L$ y el total de flores en $L$"
      ],
      "metadata": {
        "id": "xFOcxGs65sKI"
      }
    },
    {
      "cell_type": "code",
      "source": [
        "color_frec.loc[[\"B\", \"total\"], [\"L\"]]"
      ],
      "metadata": {
        "id": "rGtZSLEkZ16D"
      },
      "execution_count": null,
      "outputs": []
    },
    {
      "cell_type": "markdown",
      "source": [
        "4. La frecuencia total de flores amarillas"
      ],
      "metadata": {
        "id": "BAbQvCd26x4t"
      }
    },
    {
      "cell_type": "code",
      "source": [
        "color_frec.loc[[\"A\"], [\"total\"]]"
      ],
      "metadata": {
        "id": "WLkevHb861d3"
      },
      "execution_count": null,
      "outputs": []
    },
    {
      "cell_type": "markdown",
      "source": [
        "### **Implementa lo siguiente**\n",
        "\n",
        "Respetando las celdas y variables creadas, implementa y ejecuta lo que se pide\n",
        "\n",
        "Ejercicio 1:\n",
        "- Utilizando la variable ```num_pet_frec```\n",
        "- Crea la tabla de frecuencias del número de pétalos de la flor"
      ],
      "metadata": {
        "id": "m_8uPvVp8ajo"
      }
    },
    {
      "cell_type": "code",
      "source": [
        ""
      ],
      "metadata": {
        "id": "qEr0UMSx8kkK"
      },
      "execution_count": null,
      "outputs": []
    },
    {
      "cell_type": "markdown",
      "source": [
        "Ejercicio 2: ejecuta la siguiente celda para visualizar que todo esté correcto"
      ],
      "metadata": {
        "id": "HiG4Qx9u9M5T"
      }
    },
    {
      "cell_type": "code",
      "source": [
        "num_pet_frec"
      ],
      "metadata": {
        "id": "L3GbsR7gane_"
      },
      "execution_count": null,
      "outputs": []
    },
    {
      "cell_type": "markdown",
      "source": [
        "Ejercicio 3:\n",
        "- Utilizando la variable diamet_frec\n",
        "- Crea la tabla de frecuencias del diámetro de la flor"
      ],
      "metadata": {
        "id": "jkelOyFT9e0X"
      }
    },
    {
      "cell_type": "code",
      "source": [
        ""
      ],
      "metadata": {
        "id": "qkO7kL469nHV"
      },
      "execution_count": null,
      "outputs": []
    },
    {
      "cell_type": "markdown",
      "source": [
        "Ejercicio 4: ejecuta la siguiente celda para visualizar que todo esté correcto"
      ],
      "metadata": {
        "id": "7NlYHDsg9nyB"
      }
    },
    {
      "cell_type": "code",
      "source": [
        "diamet_frec"
      ],
      "metadata": {
        "id": "dyVDMv1G9qfG"
      },
      "execution_count": null,
      "outputs": []
    },
    {
      "cell_type": "markdown",
      "source": [
        "Tablas de probabilidades conjuntas y marginales\n",
        "\n",
        "Para hacer las tablas de probabilidades conjuntas se ejecuta la siguiente celda"
      ],
      "metadata": {
        "id": "mo1BV9diI75u"
      }
    },
    {
      "cell_type": "code",
      "source": [
        "# Utilizando la tabla de frecuencias con respecto al color, se divide todo entre 10\n",
        "color_conjm = color_frec/10"
      ],
      "metadata": {
        "id": "NzYisRviI-zo"
      },
      "execution_count": null,
      "outputs": []
    },
    {
      "cell_type": "markdown",
      "source": [
        "Y visualizamos el resultado"
      ],
      "metadata": {
        "id": "8ftEcMT2KBgN"
      }
    },
    {
      "cell_type": "code",
      "source": [
        "color_conjm"
      ],
      "metadata": {
        "id": "yeNEEjf8JIql"
      },
      "execution_count": null,
      "outputs": []
    },
    {
      "cell_type": "markdown",
      "source": [
        "Ejercicio 5: crea la tabla de probabilidades conjuntas con respecto al número de pétalos, utilizando la variable ```num_pet_conjm```"
      ],
      "metadata": {
        "id": "liZQrU0mKcRm"
      }
    },
    {
      "cell_type": "code",
      "source": [
        ""
      ],
      "metadata": {
        "id": "WCqz04oyKsVU"
      },
      "execution_count": null,
      "outputs": []
    },
    {
      "cell_type": "markdown",
      "source": [
        "Ejercicio 6: visualiza el resultado"
      ],
      "metadata": {
        "id": "uWU7wSxDKtIF"
      }
    },
    {
      "cell_type": "code",
      "source": [
        "num_pet_conjm"
      ],
      "metadata": {
        "id": "7ghj5DHoKv1N"
      },
      "execution_count": null,
      "outputs": []
    },
    {
      "cell_type": "markdown",
      "source": [
        "Ejercicio 7: crea la tabla de probabilidades conjuntas con respecto al diámetro, utilizando la variable ```diamet_conjm```"
      ],
      "metadata": {
        "id": "r7IFjT7QrSVY"
      }
    },
    {
      "cell_type": "code",
      "source": [
        ""
      ],
      "metadata": {
        "id": "MbkLmbWJreNj"
      },
      "execution_count": null,
      "outputs": []
    },
    {
      "cell_type": "markdown",
      "source": [
        "Ejercicio 7: visualiza el resultado"
      ],
      "metadata": {
        "id": "E27yk6Mlreu8"
      }
    },
    {
      "cell_type": "code",
      "source": [
        "diamet_conjm"
      ],
      "metadata": {
        "id": "FAowpBm-rh28"
      },
      "execution_count": null,
      "outputs": []
    },
    {
      "cell_type": "markdown",
      "source": [
        "Cálculo de probabilidades condicionales $P(A|B)$\n",
        "\n",
        "Para conocer la probabilidad de que la flor sea Lirio dado que el color es blanco $P(L|B)$, se tienen que seguir los siguientes pasos:\n",
        "\n",
        "- Paso 1: buscar la probabilidad conjunta $P(L \\cap B)$"
      ],
      "metadata": {
        "id": "HknT1lJAr8rX"
      }
    },
    {
      "cell_type": "code",
      "source": [
        "color_conjm.loc[[\"B\"], [\"L\"]]"
      ],
      "metadata": {
        "id": "C1DQuVoNtdct"
      },
      "execution_count": null,
      "outputs": []
    },
    {
      "cell_type": "markdown",
      "source": [
        "- Paso 2: buscar la probabilidad $P(B)$"
      ],
      "metadata": {
        "id": "62uAXNJRt9pH"
      }
    },
    {
      "cell_type": "code",
      "source": [
        "color_conjm.loc[[\"B\"], [\"total\"]]"
      ],
      "metadata": {
        "id": "_hRbu4Q2uG67"
      },
      "execution_count": null,
      "outputs": []
    },
    {
      "cell_type": "markdown",
      "source": [
        "- Paso 3: se divide $\\frac{P(L \\cap B)}{P(B)}$"
      ],
      "metadata": {
        "id": "ln6lLeujuQjM"
      }
    },
    {
      "cell_type": "code",
      "source": [
        "# Para no caer en un error de formato del DataFrame, se utiliza la propiedad values\n",
        "# Además, se utiliza un \"casting\" hacia el tipo de dato flotante (float), para visualizar el valor buscado\n",
        "float(color_conjm.loc[[\"B\"],[\"L\"]].values / color_conjm.loc[[\"B\"], [\"total\"]].values)"
      ],
      "metadata": {
        "id": "h49r6-tluagu"
      },
      "execution_count": null,
      "outputs": []
    },
    {
      "cell_type": "markdown",
      "source": [
        "Calcular la probabilidad de que la flor sea blanca dado que la flor es Margarita $P(B | M)$\n",
        "\n",
        "- Paso 1: buscar la probabilidad conjunta $P(B \\cap M)$"
      ],
      "metadata": {
        "id": "tIwmBQoywQxt"
      }
    },
    {
      "cell_type": "code",
      "source": [
        "color_conjm.loc[[\"B\"], [\"M\"]]"
      ],
      "metadata": {
        "id": "r1rWfzDRyaoj"
      },
      "execution_count": null,
      "outputs": []
    },
    {
      "cell_type": "markdown",
      "source": [
        "- Paso 2:  buscar la probabilidad $P(M)$"
      ],
      "metadata": {
        "id": "RAKxbF1Bya6P"
      }
    },
    {
      "cell_type": "code",
      "source": [
        "color_conjm.loc[[\"total\"], [\"M\"]]"
      ],
      "metadata": {
        "id": "zNXZNbxxycEk"
      },
      "execution_count": null,
      "outputs": []
    },
    {
      "cell_type": "markdown",
      "source": [
        "- Paso 3: dividir $\\frac{P(B \\cap M)}{P(M)}$"
      ],
      "metadata": {
        "id": "_gh_yNHnycXb"
      }
    },
    {
      "cell_type": "code",
      "source": [
        "# Para no caer en un error de formato del DataFrame, se utiliza la propiedad values\n",
        "# Además, se utiliza un \"casting\" hacia el tipo de dato flotante (float), para visualizar el valor buscado\n",
        "float(color_conjm.loc[[\"B\"],[\"M\"]].values / color_conjm.loc[[\"total\"], [\"M\"]].values)"
      ],
      "metadata": {
        "id": "r1rXpytsyd_7"
      },
      "execution_count": null,
      "outputs": []
    },
    {
      "cell_type": "markdown",
      "source": [
        "Ejercicio 8: calcular la probabilidad de que la flor sea Rosa dado que el color es rojo $P(R |O)$"
      ],
      "metadata": {
        "id": "EtS0X-e3z8i1"
      }
    },
    {
      "cell_type": "code",
      "source": [
        ""
      ],
      "metadata": {
        "id": "9IT9e5Im0Hzm"
      },
      "execution_count": null,
      "outputs": []
    },
    {
      "cell_type": "markdown",
      "source": [
        "Ejercicio 9: calcular la probabilidad de que la flor sea de color amarillo dado que la flor es Rosa $P(A | R)$"
      ],
      "metadata": {
        "id": "N69u-K3A0K2T"
      }
    },
    {
      "cell_type": "code",
      "source": [
        ""
      ],
      "metadata": {
        "id": "6IGZIb_G0Wd9"
      },
      "execution_count": null,
      "outputs": []
    },
    {
      "cell_type": "markdown",
      "source": [
        "Ejercicio 10: calcular la probabilidad de que la flor sea amarilla dado que la flor es Margarita $P(A|M)$"
      ],
      "metadata": {
        "id": "dlHonqKe0ejr"
      }
    },
    {
      "cell_type": "code",
      "source": [
        ""
      ],
      "metadata": {
        "id": "sG6J0E7Y0oyf"
      },
      "execution_count": null,
      "outputs": []
    },
    {
      "cell_type": "markdown",
      "source": [
        "Ejercicio 11: calcular la probabilidad de que la flor sea de color rojo dado que la flor es una Rosa $P(O|R)$"
      ],
      "metadata": {
        "id": "xnRX2dMc0wvK"
      }
    },
    {
      "cell_type": "code",
      "source": [
        ""
      ],
      "metadata": {
        "id": "Uid1tWLq1D3a"
      },
      "execution_count": null,
      "outputs": []
    },
    {
      "cell_type": "markdown",
      "source": [
        "Con las tablas de probabilidades conjuntas realizadas anteriormente, realiza los siguientes ejercicios:\n",
        "\n",
        "Ejercicio 12: calcular la probabilidad de que la flor sea Rosa dado que la flor tiene entre 40 y 70 pétalos $P(R|C)$"
      ],
      "metadata": {
        "id": "fIB9IcmA0pU1"
      }
    },
    {
      "cell_type": "code",
      "source": [
        ""
      ],
      "metadata": {
        "id": "7UF2_d6m1ghN"
      },
      "execution_count": null,
      "outputs": []
    },
    {
      "cell_type": "markdown",
      "source": [
        "Ejercicio 13: calcular la probabilidad de que la flor tenga de 5 a 9 pétalos, dado que la flor es Margarita $P(I | M)$"
      ],
      "metadata": {
        "id": "ZETw2hhF1rmf"
      }
    },
    {
      "cell_type": "code",
      "source": [
        ""
      ],
      "metadata": {
        "id": "mr7cwWqR1wtb"
      },
      "execution_count": null,
      "outputs": []
    },
    {
      "cell_type": "markdown",
      "source": [
        "Ejercicio 14: calcular la probabilidad de que la flor sea Lirio dado que la flor tiene un diámetro de 5 a 15cm $P(L|Q)$"
      ],
      "metadata": {
        "id": "xiRezFdC1xio"
      }
    },
    {
      "cell_type": "code",
      "source": [
        ""
      ],
      "metadata": {
        "id": "QUf823Kz1-Oa"
      },
      "execution_count": null,
      "outputs": []
    },
    {
      "cell_type": "markdown",
      "source": [
        "Ejercicio 15: calcular la probabilidad de que la flor tenga un diámetro de 16 a 25cm, dado que la flor es Rosa $P(V|R)$"
      ],
      "metadata": {
        "id": "lz61Jk_A1_oP"
      }
    },
    {
      "cell_type": "code",
      "source": [
        ""
      ],
      "metadata": {
        "id": "yrb6vYB12K0K"
      },
      "execution_count": null,
      "outputs": []
    }
  ]
}